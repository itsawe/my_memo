{
 "cells": [
  {
   "cell_type": "markdown",
   "metadata": {},
   "source": [
    "# ===="
   ]
  },
  {
   "cell_type": "code",
   "execution_count": 1,
   "metadata": {},
   "outputs": [],
   "source": [
    "import numpy as np"
   ]
  },
  {
   "cell_type": "code",
   "execution_count": 2,
   "metadata": {},
   "outputs": [],
   "source": [
    "def gradient_descent(x,y,lr,iterate):\n",
    "    m_curr = b_curr = 0\n",
    "    iterations = iterate\n",
    "    n=len(x)\n",
    "    learning_rate = lr\n",
    "    \n",
    "    for i in range(iterations):\n",
    "        y_predicted = m_curr * x + b_curr\n",
    "        cost = (1/n) * sum([val**2 for val in (y-y_predicted)])\n",
    "        mderivative = -(2/n) * sum(x * (y-y_predicted))\n",
    "        bderivative = -(2/n) * sum(y-y_predicted)\n",
    "        m_curr = m_curr - learning_rate * mderivative\n",
    "        b_curr = b_curr - learning_rate * bderivative\n",
    "        if i < 10 or i > (iterations - 10): \n",
    "            print(\"m = {}. b = {}, cost = {}, iteration-{}\".format(m_curr,b_curr,cost,i))"
   ]
  },
  {
   "cell_type": "code",
   "execution_count": 3,
   "metadata": {},
   "outputs": [],
   "source": [
    "x = np.array([1,2,3,4,5])\n",
    "y = np.array([5,7,9,11,13])"
   ]
  },
  {
   "cell_type": "markdown",
   "metadata": {},
   "source": [
    "# How to choose learning rate and iteration\n",
    "\n",
    "1. test first using low iteration value and learning rate between 0.1 and 0.01\n",
    "2. check the cost function, if let's say at learning rate 0.1, the cost function is converging (going up in value), then decrease the learning rate\n",
    "3. once you have found a good enough learning rate (in this case 0.08), use a greater iteration (ex: 10000)\n",
    "4. When you see the m_curr and b_curr getting stabilized (very minor changes in each iteration), we can say we have find the best value for both m_curr and b_curr"
   ]
  },
  {
   "cell_type": "code",
   "execution_count": 4,
   "metadata": {},
   "outputs": [
    {
     "name": "stdout",
     "output_type": "stream",
     "text": [
      "m = 0.62. b = 0.18, cost = 89.0, iteration-0\n",
      "m = 1.0928. b = 0.3192, cost = 52.25039999999999, iteration-1\n",
      "m = 1.453232. b = 0.42724799999999996, cost = 30.831949440000002, iteration-2\n",
      "m = 1.7278860800000002. b = 0.5115091199999999, cost = 18.347751350784, iteration-3\n",
      "m = 1.9370605952000002. b = 0.5776057727999999, cost = 11.070010749324897, iteration-4\n",
      "m = 2.096250917888. b = 0.6298300216319999, cost = 6.826353152519786, iteration-5\n",
      "m = 2.2172859146547204. b = 0.6714583661260799, cost = 4.350826141683065, iteration-6\n",
      "m = 2.309195511463117. b = 0.7049920439242751, cost = 2.9056952040975976, iteration-7\n",
      "m = 2.3788729763057748. b = 0.7323404723580026, cost = 2.0610450731046615, iteration-8\n",
      "m = 2.431580493177024. b = 0.7549612843324961, cost = 1.5663423003130599, iteration-9\n"
     ]
    }
   ],
   "source": [
    "# test with learning rate 0.01 and iteration 10\n",
    "gradient_descent(x,y,0.01,10)"
   ]
  },
  {
   "cell_type": "markdown",
   "metadata": {},
   "source": [
    "we see that when we use learning rate 0.01 and iteration of 10, the cost function's value is going down, which is good, but if the learning rate is too small, we might need a much much longer iteration to find the optimal value, so we'll try again with learning rate of 0.1"
   ]
  },
  {
   "cell_type": "code",
   "execution_count": 5,
   "metadata": {},
   "outputs": [
    {
     "name": "stdout",
     "output_type": "stream",
     "text": [
      "m = 6.2. b = 1.8, cost = 89.0, iteration-0\n",
      "m = -2.320000000000001. b = -0.4800000000000002, cost = 165.24, iteration-1\n",
      "m = 9.272000000000002. b = 2.8080000000000007, cost = 307.59840000000014, iteration-2\n",
      "m = -6.611200000000007. b = -1.5168000000000017, cost = 573.3613440000004, iteration-3\n",
      "m = 15.043520000000012. b = 4.5532800000000035, cost = 1069.4523110400019, iteration-4\n",
      "m = -14.584192000000016. b = -3.5834880000000053, cost = 1995.4416651264037, iteration-5\n",
      "m = 25.851123200000032. b = 7.6837248000000065, cost = 3723.822955597831, iteration-6\n",
      "m = -29.431582720000037. b = -7.563694080000013, cost = 6949.846718357686, iteration-7\n",
      "m = 46.056115712000064. b = 13.407994368000011, cost = 12971.181693567853, iteration-8\n",
      "m = -57.11213547520009. b = -15.10727393280003, cost = 24209.895819923568, iteration-9\n"
     ]
    }
   ],
   "source": [
    "# test with learning rate 0.1 and iteration 10\n",
    "gradient_descent(x,y,0.1,10)"
   ]
  },
  {
   "cell_type": "markdown",
   "metadata": {},
   "source": [
    "In here, we can see that the cost function is converging, which is not good, let's try lowering the learning rate to 0.09"
   ]
  },
  {
   "cell_type": "code",
   "execution_count": 6,
   "metadata": {},
   "outputs": [
    {
     "name": "stdout",
     "output_type": "stream",
     "text": [
      "m = 5.58. b = 1.6199999999999999, cost = 89.0, iteration-0\n",
      "m = -0.7632000000000003. b = -0.06480000000000019, cost = 113.24240000000003, iteration-1\n",
      "m = 6.362928. b = 1.978992, cost = 144.19294784000004, iteration-2\n",
      "m = -1.7243251200000014. b = -0.19320768000000021, cost = 183.70149905254405, iteration-3\n",
      "m = 7.374170764800002. b = 2.3927052672, cost = 234.12841033770985, iteration-4\n",
      "m = -2.9387481937920032. b = -0.4000338938880015, cost = 298.48539880224337, iteration-5\n",
      "m = 8.675991532615683. b = 2.8788962316595206, cost = 380.6152689317344, iteration-6\n",
      "m = -4.477075667059509. b = -0.7043405176516617, cost = 485.42123210977206, iteration-7\n",
      "m = 10.347878033250216. b = 3.460061635737772, cost = 619.1595028119792, iteration-8\n",
      "m = -6.4293537558836125. b = -1.1306035966501446, cost = 789.8126314844135, iteration-9\n"
     ]
    }
   ],
   "source": [
    "# test with learning rate 0.09 and iteration 10\n",
    "gradient_descent(x,y,0.09,10)"
   ]
  },
  {
   "cell_type": "markdown",
   "metadata": {},
   "source": [
    "Still going up, let's try again with 0.08"
   ]
  },
  {
   "cell_type": "code",
   "execution_count": 7,
   "metadata": {},
   "outputs": [
    {
     "name": "stdout",
     "output_type": "stream",
     "text": [
      "m = 4.96. b = 1.44, cost = 89.0, iteration-0\n",
      "m = 0.4991999999999983. b = 0.26879999999999993, cost = 71.10560000000002, iteration-1\n",
      "m = 4.451584000000002. b = 1.426176000000001, cost = 56.8297702400001, iteration-2\n",
      "m = 0.892231679999997. b = 0.5012275199999995, cost = 45.43965675929613, iteration-3\n",
      "m = 4.041314713600002. b = 1.432759910400001, cost = 36.35088701894832, iteration-4\n",
      "m = 1.2008760606719973. b = 0.7036872622079998, cost = 29.097483330142282, iteration-5\n",
      "m = 3.7095643080294423. b = 1.4546767911321612, cost = 23.307872849944438, iteration-6\n",
      "m = 1.4424862661541864. b = 0.881337636696883, cost = 18.685758762535738, iteration-7\n",
      "m = 3.4406683721083144. b = 1.4879302070713722, cost = 14.994867596913156, iteration-8\n",
      "m = 1.6308855378034224. b = 1.0383405553279617, cost = 12.046787238456794, iteration-9\n"
     ]
    }
   ],
   "source": [
    "# test with learning rate 0.08 and iteration 10\n",
    "gradient_descent(x,y,0.08,10)"
   ]
  },
  {
   "cell_type": "markdown",
   "metadata": {},
   "source": [
    "Now the cost function is going down, let's try with more iteration now"
   ]
  },
  {
   "cell_type": "code",
   "execution_count": 8,
   "metadata": {},
   "outputs": [
    {
     "name": "stdout",
     "output_type": "stream",
     "text": [
      "m = 4.96. b = 1.44, cost = 89.0, iteration-0\n",
      "m = 0.4991999999999983. b = 0.26879999999999993, cost = 71.10560000000002, iteration-1\n",
      "m = 4.451584000000002. b = 1.426176000000001, cost = 56.8297702400001, iteration-2\n",
      "m = 0.892231679999997. b = 0.5012275199999995, cost = 45.43965675929613, iteration-3\n",
      "m = 4.041314713600002. b = 1.432759910400001, cost = 36.35088701894832, iteration-4\n",
      "m = 1.2008760606719973. b = 0.7036872622079998, cost = 29.097483330142282, iteration-5\n",
      "m = 3.7095643080294423. b = 1.4546767911321612, cost = 23.307872849944438, iteration-6\n",
      "m = 1.4424862661541864. b = 0.881337636696883, cost = 18.685758762535738, iteration-7\n",
      "m = 3.4406683721083144. b = 1.4879302070713722, cost = 14.994867596913156, iteration-8\n",
      "m = 1.6308855378034224. b = 1.0383405553279617, cost = 12.046787238456794, iteration-9\n",
      "m = 2.000000000000002. b = 2.999999999999995, cost = 1.0255191767873153e-29, iteration-9991\n",
      "m = 2.000000000000001. b = 2.9999999999999947, cost = 1.0255191767873153e-29, iteration-9992\n",
      "m = 2.000000000000002. b = 2.999999999999995, cost = 1.0255191767873153e-29, iteration-9993\n",
      "m = 2.000000000000001. b = 2.9999999999999947, cost = 1.0255191767873153e-29, iteration-9994\n",
      "m = 2.000000000000002. b = 2.999999999999995, cost = 1.0255191767873153e-29, iteration-9995\n",
      "m = 2.000000000000001. b = 2.9999999999999947, cost = 1.0255191767873153e-29, iteration-9996\n",
      "m = 2.000000000000002. b = 2.999999999999995, cost = 1.0255191767873153e-29, iteration-9997\n",
      "m = 2.000000000000001. b = 2.9999999999999947, cost = 1.0255191767873153e-29, iteration-9998\n",
      "m = 2.000000000000002. b = 2.999999999999995, cost = 1.0255191767873153e-29, iteration-9999\n"
     ]
    }
   ],
   "source": [
    "# test with learning rate 0.08 and iteration 10000\n",
    "gradient_descent(x,y,0.08,10000)"
   ]
  },
  {
   "cell_type": "markdown",
   "metadata": {},
   "source": [
    "We can see that the cost function steadily going to very low value ~ zero. When we have cost function like this, we can say we have got the optimal value for m and b, which is 2 and 3.\n",
    "\n",
    "Using learning rate of 0.08 is better than 0.01, because with learning rate of 0.01 and iteration of 10000, we might have not got to the optimal value yet (cost function value ~ 0), while with learning rate of 0.08, we can get the optimal value faster.\n",
    "\n",
    "Here's the example with learning rate 0.01 and iteration of 1000"
   ]
  },
  {
   "cell_type": "code",
   "execution_count": 9,
   "metadata": {},
   "outputs": [
    {
     "name": "stdout",
     "output_type": "stream",
     "text": [
      "m = 0.62. b = 0.18, cost = 89.0, iteration-0\n",
      "m = 1.0928. b = 0.3192, cost = 52.25039999999999, iteration-1\n",
      "m = 1.453232. b = 0.42724799999999996, cost = 30.831949440000002, iteration-2\n",
      "m = 1.7278860800000002. b = 0.5115091199999999, cost = 18.347751350784, iteration-3\n",
      "m = 1.9370605952000002. b = 0.5776057727999999, cost = 11.070010749324897, iteration-4\n",
      "m = 2.096250917888. b = 0.6298300216319999, cost = 6.826353152519786, iteration-5\n",
      "m = 2.2172859146547204. b = 0.6714583661260799, cost = 4.350826141683065, iteration-6\n",
      "m = 2.309195511463117. b = 0.7049920439242751, cost = 2.9056952040975976, iteration-7\n",
      "m = 2.3788729763057748. b = 0.7323404723580026, cost = 2.0610450731046615, iteration-8\n",
      "m = 2.431580493177024. b = 0.7549612843324961, cost = 1.5663423003130599, iteration-9\n",
      "m = 2.0000000000000218. b = 2.999999999999924, cost = 1.0414541670727798e-27, iteration-9991\n",
      "m = 2.0000000000000218. b = 2.999999999999924, cost = 1.0414541670727798e-27, iteration-9992\n",
      "m = 2.0000000000000218. b = 2.999999999999924, cost = 1.0414541670727798e-27, iteration-9993\n",
      "m = 2.0000000000000218. b = 2.999999999999924, cost = 1.0414541670727798e-27, iteration-9994\n",
      "m = 2.0000000000000218. b = 2.999999999999924, cost = 1.0414541670727798e-27, iteration-9995\n",
      "m = 2.0000000000000218. b = 2.999999999999924, cost = 1.0414541670727798e-27, iteration-9996\n",
      "m = 2.0000000000000218. b = 2.999999999999924, cost = 1.0414541670727798e-27, iteration-9997\n",
      "m = 2.0000000000000218. b = 2.999999999999924, cost = 1.0414541670727798e-27, iteration-9998\n",
      "m = 2.0000000000000218. b = 2.999999999999924, cost = 1.0414541670727798e-27, iteration-9999\n"
     ]
    }
   ],
   "source": [
    "# test with learning rate 0.01 and iteration 10000\n",
    "gradient_descent(x,y,0.01,10000)"
   ]
  },
  {
   "cell_type": "markdown",
   "metadata": {},
   "source": [
    "let's try getting it done with sklearn"
   ]
  },
  {
   "cell_type": "code",
   "execution_count": 10,
   "metadata": {},
   "outputs": [
    {
     "data": {
      "text/plain": [
       "LinearRegression(copy_X=True, fit_intercept=True, n_jobs=None, normalize=False)"
      ]
     },
     "execution_count": 10,
     "metadata": {},
     "output_type": "execute_result"
    }
   ],
   "source": [
    "from sklearn import linear_model\n",
    "\n",
    "reg = linear_model.LinearRegression()\n",
    "reg.fit(x.reshape(-1,1),y)\n",
    "\n",
    "#numpy.stack(arrays, axis=0)"
   ]
  },
  {
   "cell_type": "code",
   "execution_count": 11,
   "metadata": {},
   "outputs": [
    {
     "data": {
      "text/plain": [
       "array([[1],\n",
       "       [2],\n",
       "       [3],\n",
       "       [4],\n",
       "       [5]])"
      ]
     },
     "execution_count": 11,
     "metadata": {},
     "output_type": "execute_result"
    }
   ],
   "source": [
    "#x.reshape(-1,1).shape\n",
    "x.reshape(1,-1).T"
   ]
  },
  {
   "cell_type": "code",
   "execution_count": 12,
   "metadata": {},
   "outputs": [
    {
     "data": {
      "text/plain": [
       "(5,)"
      ]
     },
     "execution_count": 12,
     "metadata": {},
     "output_type": "execute_result"
    }
   ],
   "source": [
    "y.shape"
   ]
  },
  {
   "cell_type": "code",
   "execution_count": 13,
   "metadata": {},
   "outputs": [
    {
     "data": {
      "text/plain": [
       "array([2.])"
      ]
     },
     "execution_count": 13,
     "metadata": {},
     "output_type": "execute_result"
    }
   ],
   "source": [
    "reg.coef_"
   ]
  },
  {
   "cell_type": "code",
   "execution_count": 14,
   "metadata": {},
   "outputs": [
    {
     "data": {
      "text/plain": [
       "3.0"
      ]
     },
     "execution_count": 14,
     "metadata": {},
     "output_type": "execute_result"
    }
   ],
   "source": [
    "reg.intercept_"
   ]
  },
  {
   "cell_type": "markdown",
   "metadata": {},
   "source": [
    "    in sklearn, reg.coef_ is equal to m and reg.intercept_ is equal to b.\n",
    "    and we can see that the value is the same"
   ]
  },
  {
   "cell_type": "markdown",
   "metadata": {},
   "source": [
    "# ===="
   ]
  },
  {
   "cell_type": "code",
   "execution_count": 15,
   "metadata": {},
   "outputs": [
    {
     "data": {
      "text/html": [
       "<div>\n",
       "<style scoped>\n",
       "    .dataframe tbody tr th:only-of-type {\n",
       "        vertical-align: middle;\n",
       "    }\n",
       "\n",
       "    .dataframe tbody tr th {\n",
       "        vertical-align: top;\n",
       "    }\n",
       "\n",
       "    .dataframe thead th {\n",
       "        text-align: right;\n",
       "    }\n",
       "</style>\n",
       "<table border=\"1\" class=\"dataframe\">\n",
       "  <thead>\n",
       "    <tr style=\"text-align: right;\">\n",
       "      <th></th>\n",
       "      <th>name</th>\n",
       "      <th>math</th>\n",
       "      <th>cs</th>\n",
       "    </tr>\n",
       "  </thead>\n",
       "  <tbody>\n",
       "    <tr>\n",
       "      <th>0</th>\n",
       "      <td>david</td>\n",
       "      <td>92</td>\n",
       "      <td>98</td>\n",
       "    </tr>\n",
       "    <tr>\n",
       "      <th>1</th>\n",
       "      <td>laura</td>\n",
       "      <td>56</td>\n",
       "      <td>68</td>\n",
       "    </tr>\n",
       "    <tr>\n",
       "      <th>2</th>\n",
       "      <td>sanjay</td>\n",
       "      <td>88</td>\n",
       "      <td>81</td>\n",
       "    </tr>\n",
       "    <tr>\n",
       "      <th>3</th>\n",
       "      <td>wei</td>\n",
       "      <td>70</td>\n",
       "      <td>80</td>\n",
       "    </tr>\n",
       "    <tr>\n",
       "      <th>4</th>\n",
       "      <td>jeff</td>\n",
       "      <td>80</td>\n",
       "      <td>83</td>\n",
       "    </tr>\n",
       "    <tr>\n",
       "      <th>5</th>\n",
       "      <td>aamir</td>\n",
       "      <td>49</td>\n",
       "      <td>52</td>\n",
       "    </tr>\n",
       "    <tr>\n",
       "      <th>6</th>\n",
       "      <td>venkat</td>\n",
       "      <td>65</td>\n",
       "      <td>66</td>\n",
       "    </tr>\n",
       "    <tr>\n",
       "      <th>7</th>\n",
       "      <td>virat</td>\n",
       "      <td>35</td>\n",
       "      <td>30</td>\n",
       "    </tr>\n",
       "    <tr>\n",
       "      <th>8</th>\n",
       "      <td>arthur</td>\n",
       "      <td>66</td>\n",
       "      <td>68</td>\n",
       "    </tr>\n",
       "    <tr>\n",
       "      <th>9</th>\n",
       "      <td>paul</td>\n",
       "      <td>67</td>\n",
       "      <td>73</td>\n",
       "    </tr>\n",
       "  </tbody>\n",
       "</table>\n",
       "</div>"
      ],
      "text/plain": [
       "     name  math  cs\n",
       "0   david    92  98\n",
       "1   laura    56  68\n",
       "2  sanjay    88  81\n",
       "3     wei    70  80\n",
       "4    jeff    80  83\n",
       "5   aamir    49  52\n",
       "6  venkat    65  66\n",
       "7   virat    35  30\n",
       "8  arthur    66  68\n",
       "9    paul    67  73"
      ]
     },
     "execution_count": 15,
     "metadata": {},
     "output_type": "execute_result"
    }
   ],
   "source": [
    "import pandas as pd\n",
    "\n",
    "df = pd.read_csv('test_scores.csv')\n",
    "df"
   ]
  },
  {
   "cell_type": "code",
   "execution_count": 16,
   "metadata": {},
   "outputs": [
    {
     "name": "stdout",
     "output_type": "stream",
     "text": [
      "m = 98.918. b = 1.3980000000000001, cost = 5199.1, iteration-0\n",
      "m = -9169.587968000002. b = -129.386408, cost = 45366108.340850405, iteration-1\n",
      "m = 859278.7790833284. b = 12125.168845408005, cost = 398290329619.79004, iteration-2\n",
      "m = -80513336.3321037. b = -1136112.3853868274, cost = 3496779946139640.5, iteration-3\n",
      "m = 7544007292.656351. b = 106452428.60001147, cost = 3.0699891720627802e+19, iteration-4\n",
      "m = -706864823521.7386. b = -9974470361.562872, cost = 2.6952892837845242e+23, iteration-5\n",
      "m = 66232422560018.44. b = 934596423272.1094, cost = 2.3663224578744982e+27, iteration-6\n",
      "m = -6205901966243919.0. b = -87570612045376.58, cost = 2.077506859218773e+31, iteration-7\n",
      "m = 5.814858905354231e+17. b = 8205265827097408.0, cost = 1.8239419296970382e+35, iteration-8\n",
      "m = -5.448456046050343e+19. b = -7.688239892447695e+17, cost = 1.6013252366146002e+39, iteration-9\n"
     ]
    }
   ],
   "source": [
    "#test with learning rate 0.01 and iteration 10\n",
    "x = df['math']\n",
    "y = df['cs']\n",
    "gradient_descent(x,y,0.01,10)"
   ]
  },
  {
   "cell_type": "code",
   "execution_count": 17,
   "metadata": {},
   "outputs": [
    {
     "data": {
      "text/plain": [
       "LinearRegression(copy_X=True, fit_intercept=True, n_jobs=None, normalize=False)"
      ]
     },
     "execution_count": 17,
     "metadata": {},
     "output_type": "execute_result"
    }
   ],
   "source": [
    "reg2 = linear_model.LinearRegression()\n",
    "\n",
    "reg2.fit(df[['math']], df['cs'])"
   ]
  },
  {
   "cell_type": "code",
   "execution_count": 18,
   "metadata": {},
   "outputs": [
    {
     "data": {
      "text/plain": [
       "array([1.01773624])"
      ]
     },
     "execution_count": 18,
     "metadata": {},
     "output_type": "execute_result"
    }
   ],
   "source": [
    "reg2.coef_"
   ]
  },
  {
   "cell_type": "code",
   "execution_count": 19,
   "metadata": {},
   "outputs": [
    {
     "data": {
      "text/plain": [
       "1.9152193111568891"
      ]
     },
     "execution_count": 19,
     "metadata": {},
     "output_type": "execute_result"
    }
   ],
   "source": [
    "reg2.intercept_"
   ]
  },
  {
   "cell_type": "code",
   "execution_count": null,
   "metadata": {},
   "outputs": [],
   "source": []
  }
 ],
 "metadata": {
  "kernelspec": {
   "display_name": "Python 3",
   "language": "python",
   "name": "python3"
  },
  "language_info": {
   "codemirror_mode": {
    "name": "ipython",
    "version": 3
   },
   "file_extension": ".py",
   "mimetype": "text/x-python",
   "name": "python",
   "nbconvert_exporter": "python",
   "pygments_lexer": "ipython3",
   "version": "3.7.3"
  }
 },
 "nbformat": 4,
 "nbformat_minor": 2
}
